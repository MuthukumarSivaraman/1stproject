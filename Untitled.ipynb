{
 "cells": [
  {
   "cell_type": "markdown",
   "id": "73661d55-66d7-41bb-b419-5a1d900e1517",
   "metadata": {},
   "source": [
    "<h1> My Jupyter Notebook on IBM Watson Studio </h1>"
   ]
  },
  {
   "cell_type": "markdown",
   "id": "ae08dd50-fe69-4d70-90fc-8c10cc4c800f",
   "metadata": {},
   "source": [
    "<B> Muthukumar Sivaraman  </B>\n",
    "<br>\n",
    "Level2 Automation"
   ]
  },
  {
   "cell_type": "markdown",
   "id": "95c5c936-cb29-408e-9c39-d86bd7112d04",
   "metadata": {},
   "source": [
    "<i> I am interested in data science because i am interested in mathematical field and to analysis data. <br>\n",
    "And to explore more information just by analysising the problem</i>"
   ]
  },
  {
   "cell_type": "markdown",
   "id": "f5a8a0c1-f1fd-4b5a-abcc-f9d25c42383f",
   "metadata": {},
   "source": [
    "<h3> Addision of two number </h3>"
   ]
  },
  {
   "cell_type": "code",
   "execution_count": 2,
   "id": "8e111229-d726-431d-934d-53d67171f557",
   "metadata": {},
   "outputs": [
    {
     "data": {
      "text/plain": [
       "10"
      ]
     },
     "execution_count": 2,
     "metadata": {},
     "output_type": "execute_result"
    }
   ],
   "source": [
    "5+5"
   ]
  },
  {
   "cell_type": "markdown",
   "id": "ab3f7380-ffd6-40b2-b362-e6e8e8c7c5bf",
   "metadata": {},
   "source": [
    "---\n",
    "<br>\n",
    "<ol>\n",
    "<li>Python</li>\n",
    "<li>SQL</li>\n",
    "<li>PowerBI</li>\n",
    "</ol>\n",
    "<ul>\n",
    "<li>Text read</li>\n",
    "<li>XML read</li>\n",
    "<li>pdf read</li>\n",
    "</ul>\n",
    "<a id = \"division_ID\"text goes here>google</a>"
   ]
  },
  {
   "cell_type": "code",
   "execution_count": null,
   "id": "76fa87c5-81cd-4b2a-bd18-5b5cb244bd00",
   "metadata": {},
   "outputs": [],
   "source": []
  }
 ],
 "metadata": {
  "kernelspec": {
   "display_name": "Python",
   "language": "python",
   "name": "conda-env-python-py"
  },
  "language_info": {
   "codemirror_mode": {
    "name": "ipython",
    "version": 3
   },
   "file_extension": ".py",
   "mimetype": "text/x-python",
   "name": "python",
   "nbconvert_exporter": "python",
   "pygments_lexer": "ipython3",
   "version": "3.7.12"
  }
 },
 "nbformat": 4,
 "nbformat_minor": 5
}
